{
 "cells": [
  {
   "cell_type": "code",
   "execution_count": 18,
   "id": "d44f59e2-ed33-42ed-8f0e-cc2da6416ca8",
   "metadata": {},
   "outputs": [],
   "source": [
    "import pandas as pd\n",
    "from sklearn.ensemble import RandomForestClassifier\n",
    "from sklearn.ensemble import IsolationForest\n",
    "from sklearn.model_selection import train_test_split\n",
    "from sklearn.utils.validation import check_is_fitted\n",
    "from sklearn.cluster import KMeans\n",
    "from sklearn.svm import OneClassSVM\n",
    "from sklearn.metrics import accuracy_score, confusion_matrix, classification_report, plot_roc_curve\n",
    "import numpy as np\n",
    "import joblib\n",
    "\n",
    "%matplotlib inline"
   ]
  },
  {
   "cell_type": "code",
   "execution_count": 4,
   "id": "acb4cbe5-ea20-451c-a4b3-d384c5d7b0d6",
   "metadata": {},
   "outputs": [],
   "source": [
    "mailicious_files = [\"bruteforce.csv\", \"capture_flood.csv\", \"capture_malariaDoS.csv\", \"malformed.csv\", \"slowite.csv\"]\n",
    "benign_files = [\"capture_1w.csv\", \"normal.csv\"]\n",
    "#list of models that are trained, remove some to test fewer.\n",
    "#model_names = [\"isolation_forest\", \"random_forest\", \"k_means\", \"one_class_svm\"]\n",
    "model_names = [\"random_forest\"]\n",
    "isolation_forest = None\n",
    "random_forest = None\n",
    "k_means = None\n",
    "one_class_svm = None"
   ]
  },
  {
   "cell_type": "code",
   "execution_count": 5,
   "id": "b4e7887d-6387-4457-aac9-4a1c30e5147a",
   "metadata": {},
   "outputs": [
    {
     "data": {
      "text/html": [
       "<div>\n",
       "<style scoped>\n",
       "    .dataframe tbody tr th:only-of-type {\n",
       "        vertical-align: middle;\n",
       "    }\n",
       "\n",
       "    .dataframe tbody tr th {\n",
       "        vertical-align: top;\n",
       "    }\n",
       "\n",
       "    .dataframe thead th {\n",
       "        text-align: right;\n",
       "    }\n",
       "</style>\n",
       "<table border=\"1\" class=\"dataframe\">\n",
       "  <thead>\n",
       "    <tr style=\"text-align: right;\">\n",
       "      <th></th>\n",
       "      <th>index</th>\n",
       "      <th>packet_len</th>\n",
       "      <th>ip_len</th>\n",
       "      <th>ip_df</th>\n",
       "      <th>ip_mf</th>\n",
       "      <th>ip_ttl</th>\n",
       "      <th>tcp_len</th>\n",
       "      <th>tcp_pdu_size</th>\n",
       "      <th>tcp_ack</th>\n",
       "      <th>tcp_cwr</th>\n",
       "      <th>...</th>\n",
       "      <th>tcp_urg</th>\n",
       "      <th>tcp_src_port</th>\n",
       "      <th>tcp_dst_port</th>\n",
       "      <th>tcp_tdelta</th>\n",
       "      <th>tcp_l20_avg</th>\n",
       "      <th>mqtt_len</th>\n",
       "      <th>mqtt_topic_len</th>\n",
       "      <th>mqtt_msg_type</th>\n",
       "      <th>mqtt_qos_lvl</th>\n",
       "      <th>output</th>\n",
       "    </tr>\n",
       "  </thead>\n",
       "  <tbody>\n",
       "    <tr>\n",
       "      <th>0</th>\n",
       "      <td>5380348</td>\n",
       "      <td>66</td>\n",
       "      <td>52</td>\n",
       "      <td>1</td>\n",
       "      <td>0</td>\n",
       "      <td>63</td>\n",
       "      <td>32</td>\n",
       "      <td>8</td>\n",
       "      <td>1</td>\n",
       "      <td>0</td>\n",
       "      <td>...</td>\n",
       "      <td>0</td>\n",
       "      <td>1883</td>\n",
       "      <td>35821</td>\n",
       "      <td>134</td>\n",
       "      <td>31</td>\n",
       "      <td>0</td>\n",
       "      <td>0</td>\n",
       "      <td>0</td>\n",
       "      <td>0</td>\n",
       "      <td>1</td>\n",
       "    </tr>\n",
       "    <tr>\n",
       "      <th>1</th>\n",
       "      <td>397915</td>\n",
       "      <td>66</td>\n",
       "      <td>52</td>\n",
       "      <td>1</td>\n",
       "      <td>0</td>\n",
       "      <td>64</td>\n",
       "      <td>32</td>\n",
       "      <td>8</td>\n",
       "      <td>1</td>\n",
       "      <td>0</td>\n",
       "      <td>...</td>\n",
       "      <td>0</td>\n",
       "      <td>35042</td>\n",
       "      <td>1883</td>\n",
       "      <td>30</td>\n",
       "      <td>-1216</td>\n",
       "      <td>0</td>\n",
       "      <td>0</td>\n",
       "      <td>0</td>\n",
       "      <td>0</td>\n",
       "      <td>0</td>\n",
       "    </tr>\n",
       "    <tr>\n",
       "      <th>2</th>\n",
       "      <td>11873128</td>\n",
       "      <td>66</td>\n",
       "      <td>52</td>\n",
       "      <td>1</td>\n",
       "      <td>0</td>\n",
       "      <td>64</td>\n",
       "      <td>32</td>\n",
       "      <td>8</td>\n",
       "      <td>1</td>\n",
       "      <td>0</td>\n",
       "      <td>...</td>\n",
       "      <td>0</td>\n",
       "      <td>44715</td>\n",
       "      <td>1883</td>\n",
       "      <td>45</td>\n",
       "      <td>0</td>\n",
       "      <td>0</td>\n",
       "      <td>0</td>\n",
       "      <td>0</td>\n",
       "      <td>0</td>\n",
       "      <td>1</td>\n",
       "    </tr>\n",
       "    <tr>\n",
       "      <th>3</th>\n",
       "      <td>2222605</td>\n",
       "      <td>66</td>\n",
       "      <td>52</td>\n",
       "      <td>1</td>\n",
       "      <td>0</td>\n",
       "      <td>64</td>\n",
       "      <td>32</td>\n",
       "      <td>8</td>\n",
       "      <td>1</td>\n",
       "      <td>0</td>\n",
       "      <td>...</td>\n",
       "      <td>0</td>\n",
       "      <td>52961</td>\n",
       "      <td>1883</td>\n",
       "      <td>53</td>\n",
       "      <td>1</td>\n",
       "      <td>0</td>\n",
       "      <td>0</td>\n",
       "      <td>0</td>\n",
       "      <td>0</td>\n",
       "      <td>1</td>\n",
       "    </tr>\n",
       "    <tr>\n",
       "      <th>4</th>\n",
       "      <td>11898510</td>\n",
       "      <td>66</td>\n",
       "      <td>52</td>\n",
       "      <td>1</td>\n",
       "      <td>0</td>\n",
       "      <td>64</td>\n",
       "      <td>32</td>\n",
       "      <td>8</td>\n",
       "      <td>1</td>\n",
       "      <td>0</td>\n",
       "      <td>...</td>\n",
       "      <td>0</td>\n",
       "      <td>59159</td>\n",
       "      <td>1883</td>\n",
       "      <td>64</td>\n",
       "      <td>0</td>\n",
       "      <td>0</td>\n",
       "      <td>0</td>\n",
       "      <td>0</td>\n",
       "      <td>0</td>\n",
       "      <td>1</td>\n",
       "    </tr>\n",
       "  </tbody>\n",
       "</table>\n",
       "<p>5 rows × 26 columns</p>\n",
       "</div>"
      ],
      "text/plain": [
       "      index  packet_len  ip_len  ip_df  ip_mf  ip_ttl  tcp_len  tcp_pdu_size  \\\n",
       "0   5380348          66      52      1      0      63       32             8   \n",
       "1    397915          66      52      1      0      64       32             8   \n",
       "2  11873128          66      52      1      0      64       32             8   \n",
       "3   2222605          66      52      1      0      64       32             8   \n",
       "4  11898510          66      52      1      0      64       32             8   \n",
       "\n",
       "   tcp_ack  tcp_cwr  ...  tcp_urg  tcp_src_port  tcp_dst_port  tcp_tdelta  \\\n",
       "0        1        0  ...        0          1883         35821         134   \n",
       "1        1        0  ...        0         35042          1883          30   \n",
       "2        1        0  ...        0         44715          1883          45   \n",
       "3        1        0  ...        0         52961          1883          53   \n",
       "4        1        0  ...        0         59159          1883          64   \n",
       "\n",
       "   tcp_l20_avg  mqtt_len  mqtt_topic_len  mqtt_msg_type  mqtt_qos_lvl  output  \n",
       "0           31         0               0              0             0       1  \n",
       "1        -1216         0               0              0             0       0  \n",
       "2            0         0               0              0             0       1  \n",
       "3            1         0               0              0             0       1  \n",
       "4            0         0               0              0             0       1  \n",
       "\n",
       "[5 rows x 26 columns]"
      ]
     },
     "execution_count": 5,
     "metadata": {},
     "output_type": "execute_result"
    }
   ],
   "source": [
    "df = pd.read_csv(\"all.csv\")\n",
    "df.head()"
   ]
  },
  {
   "cell_type": "code",
   "execution_count": 6,
   "id": "59495c83-62c1-4d94-a35a-7ba0f2a873fd",
   "metadata": {},
   "outputs": [],
   "source": [
    "def train_supervised(X, y):\n",
    "    global random_forest, k_means, isolation_clf\n",
    "    for model_name in model_names:\n",
    "        if model_name == \"random_forest\":\n",
    "            if random_forest == None:\n",
    "                random_forest = RandomForestClassifier(max_depth=2, random_state=0)\n",
    "            random_forest.fit(X, y)\n",
    "            print(\"random_forest:\", random_forest.score(X, y))    \n",
    "        elif model_name == \"k_means\":\n",
    "            if k_means == None:\n",
    "                k_means = KMeans(n_clusters=2, random_state=0)\n",
    "            k_means.fit(X)\n",
    "            print(\"random_forest:\", k_means.score(X, y))\n",
    "            continue"
   ]
  },
  {
   "cell_type": "code",
   "execution_count": 7,
   "id": "5fca7677-e165-4bb9-810a-475cff035c56",
   "metadata": {},
   "outputs": [],
   "source": [
    "def train_unsupervised(X):\n",
    "    global random_forest, k_means, isolation_clf, one_class_svm\n",
    "    for model_name in model_names:\n",
    "        if model_names == \"isolation_forest\":\n",
    "            if isolation_forest == None:\n",
    "                isolation_forest = IsolationForest(random_state=0)\n",
    "            isolation_forest.fit(X)   \n",
    "        elif model_name == \"one_class_svm\":\n",
    "            if one_class_svm == None:\n",
    "                one_class_svm = OneClassSVM(gamma='auto')\n",
    "            one_class_svm.fit(X)"
   ]
  },
  {
   "cell_type": "code",
   "execution_count": 9,
   "id": "cb044ea0-6fa4-4cd6-9b12-192cdadc84ad",
   "metadata": {},
   "outputs": [],
   "source": [
    "def show_metrics(clf, X, y_test, y_pred_test):\n",
    "    print(\"accuracy score: {}\".format(accuracy_score(y_test, y_pred_test)))\n",
    "    print(classification_report(y_test, y_pred_test))\n",
    "    plot_roc_curve(clf, X_test, y_test)"
   ]
  },
  {
   "cell_type": "code",
   "execution_count": 20,
   "id": "0e51a84a-57f6-4a19-8aee-cc5b0cf3a608",
   "metadata": {},
   "outputs": [],
   "source": [
    "def test(X, y):\n",
    "    global random_forest, k_means, isolation_clf\n",
    "    for model_name in model_names:\n",
    "        if model_names == \"isolation_forest\":\n",
    "            if isolation_clf == None:\n",
    "                print(\"isolation_forest model not trained or fitted\")\n",
    "            else:\n",
    "                print(\"isolation_forest:::\")\n",
    "                show_metrics(isolation_clf, X, y, isolation_clf.predict(X))\n",
    "        elif model_name == \"random_forest\":\n",
    "            if random_forest == None:\n",
    "                print(\"Random_forest model not trained or fitted\")\n",
    "            else:\n",
    "                print(\"random forest:::\")\n",
    "                show_metrics(random_forest, X, y, random_forest.predict(X))\n",
    "        elif model_name == \"k_means\":\n",
    "            if k_means == None:\n",
    "                print(\"k_means model not trained or fitted\")\n",
    "            else:\n",
    "                print(\"k_means:::\")\n",
    "                show_metrics(k_means, X, y, k_means.predict(X))"
   ]
  },
  {
   "cell_type": "code",
   "execution_count": 11,
   "id": "1e6077ee-5829-4184-8903-80bdb7da2c78",
   "metadata": {},
   "outputs": [],
   "source": [
    "y = df['output'].to_numpy().ravel()\n",
    "df = df.drop(['output', 'index'], axis=1)\n",
    "X = df.to_numpy()\n",
    "X_train, X_test, y_train, y_test = train_test_split(X, y, test_size=0.33, random_state=42)"
   ]
  },
  {
   "cell_type": "code",
   "execution_count": 15,
   "id": "bf3a422c-5cff-488a-a143-2cd800e2ea92",
   "metadata": {},
   "outputs": [
    {
     "name": "stdout",
     "output_type": "stream",
     "text": [
      "random_forest: 0.922909510155193\n"
     ]
    }
   ],
   "source": [
    "train_supervised(X_train, y_train)"
   ]
  },
  {
   "cell_type": "code",
   "execution_count": 21,
   "id": "ec4ff9a3-a17e-4c96-86e6-b4fc51022ad5",
   "metadata": {},
   "outputs": [
    {
     "name": "stdout",
     "output_type": "stream",
     "text": [
      "random forest:::\n",
      "accuracy score: 0.9228232062924687\n",
      "              precision    recall  f1-score   support\n",
      "\n",
      "           0       0.98      0.12      0.21    350042\n",
      "           1       0.92      1.00      0.96   3647753\n",
      "\n",
      "    accuracy                           0.92   3997795\n",
      "   macro avg       0.95      0.56      0.59   3997795\n",
      "weighted avg       0.93      0.92      0.89   3997795\n",
      "\n"
     ]
    },
    {
     "name": "stderr",
     "output_type": "stream",
     "text": [
      "/home/kaka/notes/ACN/pyacn/lib/python3.10/site-packages/sklearn/utils/deprecation.py:87: FutureWarning: Function plot_roc_curve is deprecated; Function :func:`plot_roc_curve` is deprecated in 1.0 and will be removed in 1.2. Use one of the class methods: :meth:`sklearn.metrics.RocCurveDisplay.from_predictions` or :meth:`sklearn.metrics.RocCurveDisplay.from_estimator`.\n",
      "  warnings.warn(msg, category=FutureWarning)\n"
     ]
    },
    {
     "data": {
      "image/png": "[encoded data removed]",
      "text/plain": [
       "<Figure size 640x480 with 1 Axes>"
      ]
     },
     "metadata": {},
     "output_type": "display_data"
    }
   ],
   "source": [
    "test(X_test, y_test)"
   ]
  },
  {
   "cell_type": "code",
   "execution_count": 19,
   "id": "32c21729-12e9-4e69-b5ec-c26859172b9d",
   "metadata": {},
   "outputs": [
    {
     "data": {
      "text/plain": [
       "['random_forest.pkl']"
      ]
     },
     "execution_count": 19,
     "metadata": {},
     "output_type": "execute_result"
    }
   ],
   "source": [
    "joblib.dump(random_forest, 'random_forest.pkl')"
   ]
  },
  {
   "cell_type": "code",
   "execution_count": null,
   "id": "72114117-8e37-43f0-8c19-6a1ea984c564",
   "metadata": {},
   "outputs": [],
   "source": []
  }
 ],
 "metadata": {
  "kernelspec": {
   "display_name": "Python 3 (ipykernel)",
   "language": "python",
   "name": "python3"
  },
  "language_info": {
   "codemirror_mode": {
    "name": "ipython",
    "version": 3
   },
   "file_extension": ".py",
   "mimetype": "text/x-python",
   "name": "python",
   "nbconvert_exporter": "python",
   "pygments_lexer": "ipython3",
   "version": "3.10.8"
  }
 },
 "nbformat": 4,
 "nbformat_minor": 5
}
